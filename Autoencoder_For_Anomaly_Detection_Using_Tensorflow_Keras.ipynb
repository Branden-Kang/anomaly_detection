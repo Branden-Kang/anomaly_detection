{
  "nbformat": 4,
  "nbformat_minor": 0,
  "metadata": {
    "colab": {
      "provenance": [],
      "authorship_tag": "ABX9TyPrsZVSLAdCOTr8wSeT8YKg"
    },
    "kernelspec": {
      "name": "python3",
      "display_name": "Python 3"
    },
    "language_info": {
      "name": "python"
    }
  },
  "cells": [
    {
      "cell_type": "markdown",
      "source": [
        "[Reference](https://pub.towardsai.net/autoencoder-for-anomaly-detection-using-tensorflow-keras-7fdfa9f3ad99)"
      ],
      "metadata": {
        "id": "SgCJgtgrxQfA"
      }
    },
    {
      "cell_type": "code",
      "execution_count": 1,
      "metadata": {
        "colab": {
          "base_uri": "https://localhost:8080/",
          "height": 523
        },
        "id": "405kgOcpwzyo",
        "outputId": "8a9c5390-96c6-4c26-d807-903618cfe867"
      },
      "outputs": [
        {
          "output_type": "stream",
          "name": "stdout",
          "text": [
            "The number of records in the training dataset is 80000\n",
            "The number of records in the test dataset is 20000\n",
            "The training dataset has 79200 records for the majority class and 800 records for the minority class.\n",
            "625/625 [==============================] - 6s 9ms/step\n",
            "The prediction loss threshold for 2% of outliers is 3.69\n",
            "              precision    recall  f1-score   support\n",
            "\n",
            "           0       0.99      0.98      0.98     19803\n",
            "           1       0.00      0.01      0.00       197\n",
            "\n",
            "    accuracy                           0.97     20000\n",
            "   macro avg       0.50      0.49      0.49     20000\n",
            "weighted avg       0.98      0.97      0.98     20000\n",
            "\n"
          ]
        },
        {
          "output_type": "display_data",
          "data": {
            "text/plain": [
              "<Figure size 432x288 with 1 Axes>"
            ],
            "image/png": "[encoded data removed]"
          },
          "metadata": {
            "needs_background": "light"
          }
        }
      ],
      "source": [
        "###### Step 1: Import Libraries# Synthetic dataset\n",
        "from sklearn.datasets import make_classification# Data processing\n",
        "import pandas as pd\n",
        "import numpy as np\n",
        "from collections import Counter# Visualization\n",
        "import matplotlib.pyplot as plt\n",
        "import seaborn as sns# Model and performance\n",
        "import tensorflow as tf\n",
        "from tensorflow.keras import layers, losses\n",
        "from sklearn.model_selection import train_test_split\n",
        "from sklearn.metrics import classification_report\n",
        "###### Step 2: Create Dataset With Anomalies# Create an imbalanced dataset\n",
        "X, y = make_classification(n_samples=100000, n_features=32, n_informative=32,\n",
        "                           n_redundant=0, n_repeated=0, n_classes=2,\n",
        "                           n_clusters_per_class=1,\n",
        "                           weights=[0.995, 0.005],\n",
        "                           class_sep=0.5, random_state=0)\n",
        "###### Step 3: Train Test Split# Train test split\n",
        "X_train, X_test, y_train, y_test = train_test_split(X, y, test_size=0.2, random_state=42)# Check the number of records\n",
        "print('The number of records in the training dataset is', X_train.shape[0])\n",
        "print('The number of records in the test dataset is', X_test.shape[0])\n",
        "print(f\"The training dataset has {sorted(Counter(y_train).items())[0][1]} records for the majority class and {sorted(Counter(y_train).items())[1][1]} records for the minority class.\")\n",
        "###### Step 4: Autoencoder Algorithm For Anomaly Detection# No code for this step\n",
        "###### Step 5: Autoencoder Model Training# Keep only the normal data for the training dataset\n",
        "X_train_normal = X_train[np.where(y_train == 0)]# Input layer\n",
        "input = tf.keras.layers.Input(shape=(32,))# Encoder layers\n",
        "encoder = tf.keras.Sequential([\n",
        "  layers.Dense(16, activation='relu'),\n",
        "  layers.Dense(8, activation='relu'),\n",
        "  layers.Dense(4, activation='relu')])(input)# Decoder layers\n",
        "decoder = tf.keras.Sequential([\n",
        "      layers.Dense(8, activation=\"relu\"),\n",
        "      layers.Dense(16, activation=\"relu\"),\n",
        "      layers.Dense(32, activation=\"sigmoid\")])(encoder)# Create the autoencoder\n",
        "autoencoder = tf.keras.Model(inputs=input, outputs=decoder)\n",
        "###### Step 6: Autoencoder Anomaly Detection Threshold# Predict anomalies/outliers in the training dataset\n",
        "prediction = autoencoder.predict(X_test)# Get the mean absolute error between actual and reconstruction/prediction\n",
        "prediction_loss = tf.keras.losses.mae(prediction, X_test)# Check the prediction loss threshold for 2% of outliers\n",
        "loss_threshold = np.percentile(prediction_loss, 98)\n",
        "print(f'The prediction loss threshold for 2% of outliers is {loss_threshold:.2f}')# Visualize the threshold\n",
        "sns.histplot(prediction_loss, bins=30, alpha=0.8)\n",
        "plt.axvline(x=loss_threshold, color='orange')\n",
        "###### Step 7: Autoencoder Anomaly Dectection Performance# Check the model performance at 2% threshold\n",
        "threshold_prediction = [0 if i < loss_threshold else 1 for i in prediction_loss]# # Check the prediction performance\n",
        "print(classification_report(y_test, threshold_prediction))"
      ]
    }
  ]
}