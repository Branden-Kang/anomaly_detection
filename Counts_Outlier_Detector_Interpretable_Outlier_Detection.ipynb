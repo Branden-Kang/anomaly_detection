{
  "nbformat": 4,
  "nbformat_minor": 0,
  "metadata": {
    "colab": {
      "provenance": [],
      "authorship_tag": "ABX9TyPlvc1P+MYVEbbzkKOB9lN5"
    },
    "kernelspec": {
      "name": "python3",
      "display_name": "Python 3"
    },
    "language_info": {
      "name": "python"
    }
  },
  "cells": [
    {
      "cell_type": "markdown",
      "source": [
        "[Reference](https://towardsdatascience.com/counts-outlier-detector-interpretable-outlier-detection-ead0d469557a)"
      ],
      "metadata": {
        "id": "UdIm4_NdRwuh"
      }
    },
    {
      "cell_type": "code",
      "source": [
        "!git clone https://github.com/Brett-Kennedy/CountsOutlierDetector.git"
      ],
      "metadata": {
        "colab": {
          "base_uri": "https://localhost:8080/"
        },
        "id": "y1pOCm2pSm_d",
        "outputId": "9750806c-65a2-46ab-9093-79265babedb7"
      },
      "execution_count": 10,
      "outputs": [
        {
          "output_type": "stream",
          "name": "stdout",
          "text": [
            "Cloning into 'CountsOutlierDetector'...\n",
            "remote: Enumerating objects: 248, done.\u001b[K\n",
            "remote: Counting objects: 100% (171/171), done.\u001b[K\n",
            "remote: Compressing objects: 100% (121/121), done.\u001b[K\n",
            "remote: Total 248 (delta 101), reused 80 (delta 49), pack-reused 77\u001b[K\n",
            "Receiving objects: 100% (248/248), 7.74 MiB | 17.92 MiB/s, done.\n",
            "Resolving deltas: 100% (122/122), done.\n"
          ]
        }
      ]
    },
    {
      "cell_type": "code",
      "source": [
        "%cd CountsOutlierDetector/"
      ],
      "metadata": {
        "colab": {
          "base_uri": "https://localhost:8080/"
        },
        "id": "PUkAnzdnS_gG",
        "outputId": "708a6094-694f-41c8-8b02-e25e193f2706"
      },
      "execution_count": 13,
      "outputs": [
        {
          "output_type": "stream",
          "name": "stdout",
          "text": [
            "/content/CountsOutlierDetector\n"
          ]
        }
      ]
    },
    {
      "cell_type": "code",
      "source": [
        "import pandas as pd\n",
        "from sklearn.datasets import load_iris\n",
        "from counts_outlier_detector import CountsOutlierDetector\n",
        "\n",
        "iris = load_iris()\n",
        "X, y = iris.data, iris.target\n",
        "det = CountsOutlierDetector()\n",
        "results = det.fit_predict(X)"
      ],
      "metadata": {
        "id": "wMliAMx2Siop"
      },
      "execution_count": 14,
      "outputs": []
    }
  ]
}