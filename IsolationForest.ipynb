{
  "nbformat": 4,
  "nbformat_minor": 0,
  "metadata": {
    "colab": {
      "provenance": [],
      "collapsed_sections": [],
      "authorship_tag": "ABX9TyMM6JJAGXa98sX8DywAfRa5"
    },
    "kernelspec": {
      "name": "python3",
      "display_name": "Python 3"
    },
    "language_info": {
      "name": "python"
    }
  },
  "cells": [
    {
      "cell_type": "code",
      "execution_count": 1,
      "metadata": {
        "id": "kSaKYA2HGUdK"
      },
      "outputs": [],
      "source": [
        "import numpy as np  \n",
        "import pandas as pd\n",
        "from sklearn.ensemble import IsolationForest  \n",
        "\n",
        "n_samples = 10000  \n",
        "outliers_fraction = 0.25    \n",
        "n_inliers = int((1. - outliers_fraction) * n_samples)  \n",
        "n_outliers = int(outliers_fraction * n_samples)  \n",
        "  \n",
        "rng = np.random.RandomState(123)    \n",
        "X = 0.3 * rng.randn(n_inliers // 2, 2)  \n",
        "\n",
        "X_train = np.r_[X + 2, X - 2]   \n",
        "outliers = rng.uniform(low=-6, high=6, size=(n_outliers, 2))"
      ]
    },
    {
      "cell_type": "code",
      "source": [
        "print('The number of inliers is: ', n_inliers)\n",
        "print('The number of outliers is: ', n_outliers)"
      ],
      "metadata": {
        "colab": {
          "base_uri": "https://localhost:8080/"
        },
        "id": "u3Oet6W-NEdM",
        "outputId": "8ae2f803-ef6d-4cb7-a68a-3d528550b7c3"
      },
      "execution_count": 10,
      "outputs": [
        {
          "output_type": "stream",
          "name": "stdout",
          "text": [
            "The number of inliers is:  7500\n",
            "The number of outliers is:  2500\n"
          ]
        }
      ]
    },
    {
      "cell_type": "code",
      "source": [
        "X"
      ],
      "metadata": {
        "colab": {
          "base_uri": "https://localhost:8080/"
        },
        "id": "UO34MOY2Ne30",
        "outputId": "a70dbda7-2f53-4240-f281-d9a183430090"
      },
      "execution_count": 11,
      "outputs": [
        {
          "output_type": "execute_result",
          "data": {
            "text/plain": [
              "array([[-0.32568918,  0.29920363],\n",
              "       [ 0.08489355, -0.45188841],\n",
              "       [-0.17358008,  0.49543096],\n",
              "       ...,\n",
              "       [-0.41040596,  0.65606918],\n",
              "       [ 0.13142959,  0.03857035],\n",
              "       [ 0.28427729, -0.05581057]])"
            ]
          },
          "metadata": {},
          "execution_count": 11
        }
      ]
    },
    {
      "cell_type": "code",
      "source": [
        "X_train"
      ],
      "metadata": {
        "colab": {
          "base_uri": "https://localhost:8080/"
        },
        "id": "DtEE9BhhGc7S",
        "outputId": "2054124b-0447-4b23-9ca4-c29d404dc5c0"
      },
      "execution_count": 2,
      "outputs": [
        {
          "data": {
            "text/plain": [
              "array([[ 1.67431082,  2.29920363],\n",
              "       [ 2.08489355,  1.54811159],\n",
              "       [ 1.82641992,  2.49543096],\n",
              "       ...,\n",
              "       [-2.41040596, -1.34393082],\n",
              "       [-1.86857041, -1.96142965],\n",
              "       [-1.71572271, -2.05581057]])"
            ]
          },
          "execution_count": 2,
          "metadata": {},
          "output_type": "execute_result"
        }
      ]
    },
    {
      "cell_type": "code",
      "source": [
        "outliers"
      ],
      "metadata": {
        "colab": {
          "base_uri": "https://localhost:8080/"
        },
        "id": "euT9yR4FGdkr",
        "outputId": "6e5ed565-ad8f-4861-c3a5-453819689e9c"
      },
      "execution_count": 3,
      "outputs": [
        {
          "data": {
            "text/plain": [
              "array([[-3.64191785,  3.03951457],\n",
              "       [ 3.21656468, -3.81299574],\n",
              "       [-5.92952536,  0.89616577],\n",
              "       ...,\n",
              "       [-4.33496129,  3.65191256],\n",
              "       [ 1.26733042, -1.55240204],\n",
              "       [-3.73895569, -5.78858711]])"
            ]
          },
          "execution_count": 3,
          "metadata": {},
          "output_type": "execute_result"
        }
      ]
    },
    {
      "cell_type": "code",
      "source": [
        "X_train = np.r_[X_train, outliers]  \n",
        "X_train"
      ],
      "metadata": {
        "colab": {
          "base_uri": "https://localhost:8080/"
        },
        "id": "ynB7R8fVGeuC",
        "outputId": "539eda31-f1d3-40c7-9554-c75a5ec78a17"
      },
      "execution_count": 4,
      "outputs": [
        {
          "data": {
            "text/plain": [
              "array([[ 1.67431082,  2.29920363],\n",
              "       [ 2.08489355,  1.54811159],\n",
              "       [ 1.82641992,  2.49543096],\n",
              "       ...,\n",
              "       [-4.33496129,  3.65191256],\n",
              "       [ 1.26733042, -1.55240204],\n",
              "       [-3.73895569, -5.78858711]])"
            ]
          },
          "execution_count": 4,
          "metadata": {},
          "output_type": "execute_result"
        }
      ]
    },
    {
      "cell_type": "code",
      "source": [
        "clf = IsolationForest(contamination=outliers_fraction, random_state=2018, n_jobs=-1)  "
      ],
      "metadata": {
        "id": "2DsS3nY0GmG8"
      },
      "execution_count": 5,
      "outputs": []
    },
    {
      "cell_type": "code",
      "source": [
        "y_pred_train = clf.fit_predict(X_train)\n",
        "y_pred_train"
      ],
      "metadata": {
        "colab": {
          "base_uri": "https://localhost:8080/"
        },
        "id": "9z1L5tQKGzXe",
        "outputId": "0e88bd1a-3826-4d39-fcf1-85dbee19fabf"
      },
      "execution_count": 6,
      "outputs": [
        {
          "data": {
            "text/plain": [
              "array([ 1,  1,  1, ..., -1, -1, -1])"
            ]
          },
          "execution_count": 6,
          "metadata": {},
          "output_type": "execute_result"
        }
      ]
    },
    {
      "cell_type": "code",
      "source": [
        "pred = np.array(['normal' if i==1 else 'abnormal' for i in y_pred_train])\n",
        "pred"
      ],
      "metadata": {
        "id": "VaPkUswnHbg-",
        "outputId": "9ec30ad4-e8ca-4025-8960-18034c4b45d0",
        "colab": {
          "base_uri": "https://localhost:8080/"
        }
      },
      "execution_count": 7,
      "outputs": [
        {
          "data": {
            "text/plain": [
              "array(['normal', 'normal', 'normal', ..., 'abnormal', 'abnormal',\n",
              "       'abnormal'], dtype='<U8')"
            ]
          },
          "execution_count": 7,
          "metadata": {},
          "output_type": "execute_result"
        }
      ]
    },
    {
      "cell_type": "code",
      "source": [
        "scores_pred = clf.decision_function(X_train) \n",
        "dict_ = {'anomaly_score':scores_pred, 'y_pred':y_pred_train, 'result':pred}\n",
        "scores = pd.DataFrame(dict_)\n",
        "print(scores.sample(5))"
      ],
      "metadata": {
        "colab": {
          "base_uri": "https://localhost:8080/"
        },
        "id": "iQRWpjy8GilV",
        "outputId": "c6b8827a-7e09-400c-a68c-41fba9a38de2"
      },
      "execution_count": 8,
      "outputs": [
        {
          "metadata": {
            "tags": null
          },
          "name": "stdout",
          "output_type": "stream",
          "text": [
            "      anomaly_score  y_pred    result\n",
            "355        0.060014       1    normal\n",
            "9005      -0.111431      -1  abnormal\n",
            "1525       0.071199       1    normal\n",
            "8646      -0.013615      -1  abnormal\n",
            "9360      -0.051253      -1  abnormal\n"
          ]
        }
      ]
    }
  ]
}