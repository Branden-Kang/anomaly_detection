{
  "nbformat": 4,
  "nbformat_minor": 0,
  "metadata": {
    "colab": {
      "provenance": [],
      "authorship_tag": "ABX9TyOTncNIJLXbFuawUjI3qtR/"
    },
    "kernelspec": {
      "name": "python3",
      "display_name": "Python 3"
    },
    "language_info": {
      "name": "python"
    }
  },
  "cells": [
    {
      "cell_type": "markdown",
      "source": [
        "[Reference](https://gaurav-adarshi.medium.com/handling-outliers-with-python-strategies-and-pyod-tools-b7dc8964232c)"
      ],
      "metadata": {
        "id": "82dBCIWoIPxb"
      }
    },
    {
      "cell_type": "code",
      "source": [
        "pip install pyod"
      ],
      "metadata": {
        "colab": {
          "base_uri": "https://localhost:8080/"
        },
        "id": "HpL-ZDkCJ4Ww",
        "outputId": "f42d2995-63f7-4cbb-8eee-11fe7b33ea38"
      },
      "execution_count": 2,
      "outputs": [
        {
          "output_type": "stream",
          "name": "stdout",
          "text": [
            "Collecting pyod\n",
            "  Downloading pyod-1.1.3.tar.gz (160 kB)\n",
            "\u001b[?25l     \u001b[90m━━━━━━━━━━━━━━━━━━━━━━━━━━━━━━━━━━━━━━━━\u001b[0m \u001b[32m0.0/160.5 kB\u001b[0m \u001b[31m?\u001b[0m eta \u001b[36m-:--:--\u001b[0m\r\u001b[2K     \u001b[91m━━━━━━━━━━━━━━━━━━━━━━━━━━━━━━━━━━━━━━\u001b[0m\u001b[90m╺\u001b[0m\u001b[90m━\u001b[0m \u001b[32m153.6/160.5 kB\u001b[0m \u001b[31m5.0 MB/s\u001b[0m eta \u001b[36m0:00:01\u001b[0m\r\u001b[2K     \u001b[90m━━━━━━━━━━━━━━━━━━━━━━━━━━━━━━━━━━━━━━━━\u001b[0m \u001b[32m160.5/160.5 kB\u001b[0m \u001b[31m4.1 MB/s\u001b[0m eta \u001b[36m0:00:00\u001b[0m\n",
            "\u001b[?25h  Preparing metadata (setup.py) ... \u001b[?25l\u001b[?25hdone\n",
            "Requirement already satisfied: joblib in /usr/local/lib/python3.10/dist-packages (from pyod) (1.3.2)\n",
            "Requirement already satisfied: matplotlib in /usr/local/lib/python3.10/dist-packages (from pyod) (3.7.1)\n",
            "Requirement already satisfied: numpy>=1.19 in /usr/local/lib/python3.10/dist-packages (from pyod) (1.25.2)\n",
            "Requirement already satisfied: numba>=0.51 in /usr/local/lib/python3.10/dist-packages (from pyod) (0.58.1)\n",
            "Requirement already satisfied: scipy>=1.5.1 in /usr/local/lib/python3.10/dist-packages (from pyod) (1.11.4)\n",
            "Requirement already satisfied: scikit_learn>=0.22.0 in /usr/local/lib/python3.10/dist-packages (from pyod) (1.2.2)\n",
            "Requirement already satisfied: six in /usr/local/lib/python3.10/dist-packages (from pyod) (1.16.0)\n",
            "Requirement already satisfied: llvmlite<0.42,>=0.41.0dev0 in /usr/local/lib/python3.10/dist-packages (from numba>=0.51->pyod) (0.41.1)\n",
            "Requirement already satisfied: threadpoolctl>=2.0.0 in /usr/local/lib/python3.10/dist-packages (from scikit_learn>=0.22.0->pyod) (3.3.0)\n",
            "Requirement already satisfied: contourpy>=1.0.1 in /usr/local/lib/python3.10/dist-packages (from matplotlib->pyod) (1.2.0)\n",
            "Requirement already satisfied: cycler>=0.10 in /usr/local/lib/python3.10/dist-packages (from matplotlib->pyod) (0.12.1)\n",
            "Requirement already satisfied: fonttools>=4.22.0 in /usr/local/lib/python3.10/dist-packages (from matplotlib->pyod) (4.49.0)\n",
            "Requirement already satisfied: kiwisolver>=1.0.1 in /usr/local/lib/python3.10/dist-packages (from matplotlib->pyod) (1.4.5)\n",
            "Requirement already satisfied: packaging>=20.0 in /usr/local/lib/python3.10/dist-packages (from matplotlib->pyod) (23.2)\n",
            "Requirement already satisfied: pillow>=6.2.0 in /usr/local/lib/python3.10/dist-packages (from matplotlib->pyod) (9.4.0)\n",
            "Requirement already satisfied: pyparsing>=2.3.1 in /usr/local/lib/python3.10/dist-packages (from matplotlib->pyod) (3.1.1)\n",
            "Requirement already satisfied: python-dateutil>=2.7 in /usr/local/lib/python3.10/dist-packages (from matplotlib->pyod) (2.8.2)\n",
            "Building wheels for collected packages: pyod\n",
            "  Building wheel for pyod (setup.py) ... \u001b[?25l\u001b[?25hdone\n",
            "  Created wheel for pyod: filename=pyod-1.1.3-py3-none-any.whl size=190251 sha256=15a9a8e5d0f9512ed8c95baee38ccddaf172913cd49a3898da2f8dfb7f60b605\n",
            "  Stored in directory: /root/.cache/pip/wheels/05/f8/db/124d43bec122d6ec0ab3713fadfe25ebed8af52ec561682b4e\n",
            "Successfully built pyod\n",
            "Installing collected packages: pyod\n",
            "Successfully installed pyod-1.1.3\n"
          ]
        }
      ]
    },
    {
      "cell_type": "code",
      "execution_count": 3,
      "metadata": {
        "colab": {
          "base_uri": "https://localhost:8080/"
        },
        "id": "y55US8gWHpuZ",
        "outputId": "26a45132-1b16-417e-fc7e-3266dba7f97e"
      },
      "outputs": [
        {
          "output_type": "stream",
          "name": "stdout",
          "text": [
            "Isolation Forest ROC:0.9444, precision @ rank n:0.9\n",
            "k-Nearest Neighbors ROC:0.9778, precision @ rank n:0.0\n"
          ]
        },
        {
          "output_type": "stream",
          "name": "stderr",
          "text": [
            "/usr/local/lib/python3.10/dist-packages/sklearn/metrics/_classification.py:1344: UndefinedMetricWarning: Precision is ill-defined and being set to 0.0 due to no predicted samples. Use `zero_division` parameter to control this behavior.\n",
            "  _warn_prf(average, modifier, msg_start, len(result))\n"
          ]
        }
      ],
      "source": [
        "from pyod.models.iforest import IForest\n",
        "from pyod.models.knn import KNN\n",
        "from pyod.utils.data import generate_data, evaluate_print\n",
        "\n",
        "# Generate a sample dataset\n",
        "X_train, X_test, y_train, y_test = generate_data(n_train=200, n_test=100, n_features=2)\n",
        "\n",
        "# Initialize Isolation Forest model\n",
        "if_model = IForest()\n",
        "if_model.fit(X_train)\n",
        "\n",
        "# Predict outliers using Isolation Forest\n",
        "y_test_if_pred = if_model.predict(X_test)\n",
        "\n",
        "# Evaluate Isolation Forest\n",
        "evaluate_print('Isolation Forest', y_test, y_test_if_pred)\n",
        "\n",
        "# Initialize k-Nearest Neighbors (KNN) model\n",
        "knn_model = KNN()\n",
        "knn_model.fit(X_train)\n",
        "\n",
        "# Predict outliers using KNN\n",
        "y_test_knn_pred = knn_model.predict(X_test)\n",
        "\n",
        "# Evaluate KNN\n",
        "evaluate_print('k-Nearest Neighbors', y_test, y_test_knn_pred)"
      ]
    },
    {
      "cell_type": "code",
      "source": [
        "from pyod.models.knn import KNN\n",
        "from pyod.utils.data import generate_data, evaluate_print\n",
        "\n",
        "# Generate a sample dataset\n",
        "X_train, X_test, y_train, y_test = generate_data(n_train=200, n_test=100, n_features=2)\n",
        "\n",
        "# Initialize the KNN model\n",
        "model = KNN()\n",
        "\n",
        "# Fit the model\n",
        "model.fit(X_train)\n",
        "\n",
        "# Predict outliers in the test set\n",
        "y_test_pred = model.predict(X_test)\n",
        "\n",
        "# Evaluate the model\n",
        "evaluate_print('KNN', y_test, y_test_pred)"
      ],
      "metadata": {
        "colab": {
          "base_uri": "https://localhost:8080/"
        },
        "id": "z-vKa8nuJ0UZ",
        "outputId": "5a838b55-13dd-4575-eb2b-5c49f7b430f7"
      },
      "execution_count": 4,
      "outputs": [
        {
          "output_type": "stream",
          "name": "stdout",
          "text": [
            "KNN ROC:0.4833, precision @ rank n:0.0\n"
          ]
        }
      ]
    },
    {
      "cell_type": "code",
      "source": [
        "from pyod.models.auto_encoder import AutoEncoder\n",
        "from pyod.utils.data import generate_data, evaluate_print\n",
        "\n",
        "# Generate a sample dataset\n",
        "X_train, X_test, y_train, y_test = generate_data(n_train=200, n_test=100, n_features=5)\n",
        "\n",
        "# Initialize AutoEncoder model\n",
        "ae_model = AutoEncoder(hidden_neurons=[4, 2, 2, 4], epochs=20, contamination=0.1)\n",
        "\n",
        "# Fit the model\n",
        "ae_model.fit(X_train)\n",
        "\n",
        "# Predict outliers using AutoEncoder\n",
        "y_test_ae_pred = ae_model.predict(X_test)\n",
        "\n",
        "# Evaluate AutoEncoder\n",
        "evaluate_print('AutoEncoder', y_test, y_test_ae_pred)"
      ],
      "metadata": {
        "colab": {
          "base_uri": "https://localhost:8080/"
        },
        "id": "pe7THVq4J6CT",
        "outputId": "5b330f23-44f5-469e-82ad-6b2c8bee1546"
      },
      "execution_count": 5,
      "outputs": [
        {
          "output_type": "stream",
          "name": "stdout",
          "text": [
            "Model: \"sequential\"\n",
            "_________________________________________________________________\n",
            " Layer (type)                Output Shape              Param #   \n",
            "=================================================================\n",
            " dense (Dense)               (None, 5)                 30        \n",
            "                                                                 \n",
            " dropout (Dropout)           (None, 5)                 0         \n",
            "                                                                 \n",
            " dense_1 (Dense)             (None, 5)                 30        \n",
            "                                                                 \n",
            " dropout_1 (Dropout)         (None, 5)                 0         \n",
            "                                                                 \n",
            " dense_2 (Dense)             (None, 4)                 24        \n",
            "                                                                 \n",
            " dropout_2 (Dropout)         (None, 4)                 0         \n",
            "                                                                 \n",
            " dense_3 (Dense)             (None, 2)                 10        \n",
            "                                                                 \n",
            " dropout_3 (Dropout)         (None, 2)                 0         \n",
            "                                                                 \n",
            " dense_4 (Dense)             (None, 2)                 6         \n",
            "                                                                 \n",
            " dropout_4 (Dropout)         (None, 2)                 0         \n",
            "                                                                 \n",
            " dense_5 (Dense)             (None, 4)                 12        \n",
            "                                                                 \n",
            " dropout_5 (Dropout)         (None, 4)                 0         \n",
            "                                                                 \n",
            " dense_6 (Dense)             (None, 5)                 25        \n",
            "                                                                 \n",
            "=================================================================\n",
            "Total params: 137 (548.00 Byte)\n",
            "Trainable params: 137 (548.00 Byte)\n",
            "Non-trainable params: 0 (0.00 Byte)\n",
            "_________________________________________________________________\n",
            "None\n",
            "Epoch 1/20\n",
            "6/6 [==============================] - 3s 113ms/step - loss: 2.0510 - val_loss: 1.1330\n",
            "Epoch 2/20\n",
            "6/6 [==============================] - 0s 15ms/step - loss: 2.0897 - val_loss: 1.1142\n",
            "Epoch 3/20\n",
            "6/6 [==============================] - 0s 12ms/step - loss: 1.9744 - val_loss: 1.0954\n",
            "Epoch 4/20\n",
            "6/6 [==============================] - 0s 20ms/step - loss: 1.9696 - val_loss: 1.0795\n",
            "Epoch 5/20\n",
            "6/6 [==============================] - 0s 21ms/step - loss: 1.9647 - val_loss: 1.0631\n",
            "Epoch 6/20\n",
            "6/6 [==============================] - 0s 18ms/step - loss: 1.9165 - val_loss: 1.0481\n",
            "Epoch 7/20\n",
            "6/6 [==============================] - 0s 16ms/step - loss: 1.8569 - val_loss: 1.0335\n",
            "Epoch 8/20\n",
            "6/6 [==============================] - 0s 16ms/step - loss: 1.8199 - val_loss: 1.0198\n",
            "Epoch 9/20\n",
            "6/6 [==============================] - 0s 14ms/step - loss: 1.8096 - val_loss: 1.0074\n",
            "Epoch 10/20\n",
            "6/6 [==============================] - 0s 17ms/step - loss: 1.7476 - val_loss: 0.9953\n",
            "Epoch 11/20\n",
            "6/6 [==============================] - 0s 17ms/step - loss: 1.7457 - val_loss: 0.9843\n",
            "Epoch 12/20\n",
            "6/6 [==============================] - 0s 17ms/step - loss: 1.7022 - val_loss: 0.9748\n",
            "Epoch 13/20\n",
            "6/6 [==============================] - 0s 11ms/step - loss: 1.7183 - val_loss: 0.9645\n",
            "Epoch 14/20\n",
            "6/6 [==============================] - 0s 29ms/step - loss: 1.7347 - val_loss: 0.9538\n",
            "Epoch 15/20\n",
            "6/6 [==============================] - 0s 31ms/step - loss: 1.7037 - val_loss: 0.9439\n",
            "Epoch 16/20\n",
            "6/6 [==============================] - 0s 35ms/step - loss: 1.6898 - val_loss: 0.9347\n",
            "Epoch 17/20\n",
            "6/6 [==============================] - 0s 41ms/step - loss: 1.6764 - val_loss: 0.9253\n",
            "Epoch 18/20\n",
            "6/6 [==============================] - 0s 35ms/step - loss: 1.6681 - val_loss: 0.9162\n",
            "Epoch 19/20\n",
            "6/6 [==============================] - 0s 13ms/step - loss: 1.6570 - val_loss: 0.9073\n",
            "Epoch 20/20\n",
            "6/6 [==============================] - 0s 21ms/step - loss: 1.6369 - val_loss: 0.8991\n",
            "7/7 [==============================] - 1s 5ms/step\n",
            "4/4 [==============================] - 0s 11ms/step\n",
            "AutoEncoder ROC:1.0, precision @ rank n:1.0\n"
          ]
        }
      ]
    },
    {
      "cell_type": "code",
      "source": [
        "from pyod.models.hbos import HBOS\n",
        "from pyod.utils.data import generate_data, evaluate_print\n",
        "\n",
        "# Generate a sample dataset\n",
        "X_train, X_test, y_train, y_test = generate_data(n_train=200, n_test=100, n_features=5)\n",
        "\n",
        "# Initialize HBOS model\n",
        "hbos_model = HBOS()\n",
        "\n",
        "# Fit the model\n",
        "hbos_model.fit(X_train)\n",
        "\n",
        "# Predict outliers using HBOS\n",
        "y_test_hbos_pred = hbos_model.predict(X_test)\n",
        "\n",
        "# Evaluate HBOS\n",
        "evaluate_print('Histogram-Based Outlier Detection (HBOS)', y_test, y_test_hbos_pred)"
      ],
      "metadata": {
        "colab": {
          "base_uri": "https://localhost:8080/"
        },
        "id": "URMByNdwJ7lQ",
        "outputId": "56a3fa60-6a49-43e8-94ca-cf8031e553d4"
      },
      "execution_count": 6,
      "outputs": [
        {
          "output_type": "stream",
          "name": "stdout",
          "text": [
            "Histogram-Based Outlier Detection (HBOS) ROC:0.9889, precision @ rank n:0.0\n"
          ]
        },
        {
          "output_type": "stream",
          "name": "stderr",
          "text": [
            "/usr/local/lib/python3.10/dist-packages/sklearn/metrics/_classification.py:1344: UndefinedMetricWarning: Precision is ill-defined and being set to 0.0 due to no predicted samples. Use `zero_division` parameter to control this behavior.\n",
            "  _warn_prf(average, modifier, msg_start, len(result))\n"
          ]
        }
      ]
    }
  ]
}