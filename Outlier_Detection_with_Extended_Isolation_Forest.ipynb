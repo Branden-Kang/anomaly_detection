{
  "nbformat": 4,
  "nbformat_minor": 0,
  "metadata": {
    "colab": {
      "provenance": [],
      "authorship_tag": "ABX9TyP2HSg+qPbWSyS2qErolb8C"
    },
    "kernelspec": {
      "name": "python3",
      "display_name": "Python 3"
    },
    "language_info": {
      "name": "python"
    }
  },
  "cells": [
    {
      "cell_type": "markdown",
      "source": [
        "[Reference](https://towardsdatascience.com/outlier-detection-with-extended-isolation-forest-1e248a3fe97b)"
      ],
      "metadata": {
        "id": "7HVtmoxP4T7W"
      }
    },
    {
      "cell_type": "code",
      "source": [
        "pip install eif"
      ],
      "metadata": {
        "colab": {
          "base_uri": "https://localhost:8080/"
        },
        "id": "4Heu0Jvp4qOA",
        "outputId": "95c5495a-edf0-44a2-e032-bfa0c226c195"
      },
      "execution_count": 4,
      "outputs": [
        {
          "output_type": "stream",
          "name": "stdout",
          "text": [
            "Looking in indexes: https://pypi.org/simple, https://us-python.pkg.dev/colab-wheels/public/simple/\n",
            "Collecting eif\n",
            "  Downloading eif-2.0.2.tar.gz (1.6 MB)\n",
            "\u001b[K     |████████████████████████████████| 1.6 MB 5.2 MB/s \n",
            "\u001b[?25hRequirement already satisfied: numpy in /usr/local/lib/python3.8/dist-packages (from eif) (1.21.6)\n",
            "Requirement already satisfied: cython in /usr/local/lib/python3.8/dist-packages (from eif) (0.29.32)\n",
            "Building wheels for collected packages: eif\n",
            "  Building wheel for eif (setup.py) ... \u001b[?25l\u001b[?25hdone\n",
            "  Created wheel for eif: filename=eif-2.0.2-cp38-cp38-linux_x86_64.whl size=262222 sha256=b0e6d8c33e5f0b1f01b87770a898917329c5b5bbb0accf4eb9f0dfdbb2834f0f\n",
            "  Stored in directory: /root/.cache/pip/wheels/09/03/7b/a12d773555eff50431637ce26cbcc2b1b9c582c8b09b2d8350\n",
            "Successfully built eif\n",
            "Installing collected packages: eif\n",
            "Successfully installed eif-2.0.2\n"
          ]
        }
      ]
    },
    {
      "cell_type": "code",
      "source": [
        "import matplotlib.pyplot as plt\n",
        "import seaborn as sns\n",
        "import scipy.io\n",
        "import pandas as pd\n",
        "import numpy as np\n",
        "from sklearn import metrics\n",
        "from scipy.stats import multivariate_normal\n",
        "\n",
        "from sklearn.ensemble import IsolationForest\n",
        "from sklearn.metrics.pairwise import euclidean_distances\n",
        "import eif as iso\n",
        "\n",
        "# default plot settings\n",
        "%matplotlib inline"
      ],
      "metadata": {
        "id": "d25OYVxS4WrQ"
      },
      "execution_count": 5,
      "outputs": []
    },
    {
      "cell_type": "code",
      "execution_count": 11,
      "metadata": {
        "colab": {
          "base_uri": "https://localhost:8080/"
        },
        "id": "nYKGCetx37gi",
        "outputId": "7e0d758a-c5d2-4656-b40a-c4af7c042b6c"
      },
      "outputs": [
        {
          "output_type": "stream",
          "name": "stdout",
          "text": [
            "Mounted at /content/drive\n",
            "/content/drive/MyDrive/Medium\n"
          ]
        }
      ],
      "source": [
        "from google.colab import drive\n",
        "drive.mount('/content/drive')\n",
        "\n",
        "%cd /content/drive/MyDrive/Anomaly_Detection"
      ]
    },
    {
      "cell_type": "code",
      "source": [
        "def pretty_cm(y_pred, y_truth, labels):\n",
        "    '''\n",
        "    'Pretty' implementation of a confusion matrix with some evaluation statistics.\n",
        "    \n",
        "    Input:\n",
        "    y_pred - object with class predictions from the model\n",
        "    y_truth - object with actual classes\n",
        "    labels - list containing label names\n",
        "    '''\n",
        "    \n",
        "    cm = metrics.confusion_matrix(y_truth, y_pred)\n",
        "    ax= plt.subplot()\n",
        "    sns.heatmap(cm, annot=True, fmt=\"d\", linewidths=.5, square = True, cmap = 'BuGn_r')\n",
        "    ax.set_xlabel('Predicted label')\n",
        "    ax.set_ylabel('Actual label')\n",
        "    ax.set_title('Confusion Matrix', size = 15) \n",
        "    ax.xaxis.set_ticklabels(labels)\n",
        "    ax.yaxis.set_ticklabels(labels)\n",
        "    \n",
        "    print('#######################')\n",
        "    print('Evaluation metrics ####')\n",
        "    print('#######################')\n",
        "    print('Accuracy: {:.4f}'.format(metrics.accuracy_score(y_truth, y_pred)))\n",
        "    print('Precision: {:.4f}'.format(metrics.precision_score(y_truth, y_pred)))\n",
        "    print('Recall: {:.4f}'.format(metrics.recall_score(y_truth, y_pred)))\n",
        "    print('F1: {:.4f}'.format(metrics.f1_score(y_truth, y_pred)))"
      ],
      "metadata": {
        "id": "KxHI-a4B45uj"
      },
      "execution_count": 12,
      "outputs": []
    },
    {
      "cell_type": "code",
      "source": [
        "mat = scipy.io.loadmat('cover.mat')\n",
        "X = pd.DataFrame(mat['X'])\n",
        "y = pd.Series([x[0] for x in mat['y']])"
      ],
      "metadata": {
        "id": "YSBtz_ww4eBp"
      },
      "execution_count": 17,
      "outputs": []
    },
    {
      "cell_type": "code",
      "source": [
        "X.shape"
      ],
      "metadata": {
        "colab": {
          "base_uri": "https://localhost:8080/"
        },
        "id": "WdJAhdAx4hIL",
        "outputId": "c49db2ed-4fd4-40f8-a4e7-e9128f051627"
      },
      "execution_count": 18,
      "outputs": [
        {
          "output_type": "execute_result",
          "data": {
            "text/plain": [
              "(286048, 10)"
            ]
          },
          "metadata": {},
          "execution_count": 18
        }
      ]
    },
    {
      "cell_type": "code",
      "source": [
        "X.describe()"
      ],
      "metadata": {
        "colab": {
          "base_uri": "https://localhost:8080/",
          "height": 297
        },
        "id": "AWuO6U7V4iLg",
        "outputId": "069fc498-8462-41e6-adaa-9504c282c1f5"
      },
      "execution_count": 19,
      "outputs": [
        {
          "output_type": "execute_result",
          "data": {
            "text/plain": [
              "                   0              1              2              3  \\\n",
              "count  286048.000000  286048.000000  286048.000000  286048.000000   \n",
              "mean     2914.242610     151.917224      13.598309     278.255251   \n",
              "std       197.987324     107.488551       7.138464     210.458091   \n",
              "min      1988.000000       0.000000       0.000000       0.000000   \n",
              "25%      2788.000000      60.000000       8.000000     120.000000   \n",
              "50%      2933.000000     126.000000      13.000000     240.000000   \n",
              "75%      3041.000000     241.000000      18.000000     390.000000   \n",
              "max      3433.000000     360.000000      66.000000    1397.000000   \n",
              "\n",
              "                   4              5              6              7  \\\n",
              "count  286048.000000  286048.000000  286048.000000  286048.000000   \n",
              "mean       45.839107    2414.978643     213.983685     225.246605   \n",
              "std        57.504597    1618.090012      24.955931      18.551910   \n",
              "min      -173.000000       0.000000       0.000000       0.000000   \n",
              "25%         8.000000    1123.000000     201.000000     215.000000   \n",
              "50%        30.000000    2016.000000     219.000000     227.000000   \n",
              "75%        67.000000    3386.000000     232.000000     239.000000   \n",
              "max       601.000000    7117.000000     254.000000     254.000000   \n",
              "\n",
              "                   8              9  \n",
              "count  286048.000000  286048.000000  \n",
              "mean      142.680092    2155.583857  \n",
              "std        36.501454    1423.976520  \n",
              "min         0.000000       0.000000  \n",
              "25%       120.000000    1165.000000  \n",
              "50%       142.000000    1832.000000  \n",
              "75%       167.000000    2647.000000  \n",
              "max       254.000000    7173.000000  "
            ],
            "text/html": [
              "\n",
              "  <div id=\"df-12a139c2-2f8e-47fd-8589-67aed264be24\">\n",
              "    <div class=\"colab-df-container\">\n",
              "      <div>\n",
              "<style scoped>\n",
              "    .dataframe tbody tr th:only-of-type {\n",
              "        vertical-align: middle;\n",
              "    }\n",
              "\n",
              "    .dataframe tbody tr th {\n",
              "        vertical-align: top;\n",
              "    }\n",
              "\n",
              "    .dataframe thead th {\n",
              "        text-align: right;\n",
              "    }\n",
              "</style>\n",
              "<table border=\"1\" class=\"dataframe\">\n",
              "  <thead>\n",
              "    <tr style=\"text-align: right;\">\n",
              "      <th></th>\n",
              "      <th>0</th>\n",
              "      <th>1</th>\n",
              "      <th>2</th>\n",
              "      <th>3</th>\n",
              "      <th>4</th>\n",
              "      <th>5</th>\n",
              "      <th>6</th>\n",
              "      <th>7</th>\n",
              "      <th>8</th>\n",
              "      <th>9</th>\n",
              "    </tr>\n",
              "  </thead>\n",
              "  <tbody>\n",
              "    <tr>\n",
              "      <th>count</th>\n",
              "      <td>286048.000000</td>\n",
              "      <td>286048.000000</td>\n",
              "      <td>286048.000000</td>\n",
              "      <td>286048.000000</td>\n",
              "      <td>286048.000000</td>\n",
              "      <td>286048.000000</td>\n",
              "      <td>286048.000000</td>\n",
              "      <td>286048.000000</td>\n",
              "      <td>286048.000000</td>\n",
              "      <td>286048.000000</td>\n",
              "    </tr>\n",
              "    <tr>\n",
              "      <th>mean</th>\n",
              "      <td>2914.242610</td>\n",
              "      <td>151.917224</td>\n",
              "      <td>13.598309</td>\n",
              "      <td>278.255251</td>\n",
              "      <td>45.839107</td>\n",
              "      <td>2414.978643</td>\n",
              "      <td>213.983685</td>\n",
              "      <td>225.246605</td>\n",
              "      <td>142.680092</td>\n",
              "      <td>2155.583857</td>\n",
              "    </tr>\n",
              "    <tr>\n",
              "      <th>std</th>\n",
              "      <td>197.987324</td>\n",
              "      <td>107.488551</td>\n",
              "      <td>7.138464</td>\n",
              "      <td>210.458091</td>\n",
              "      <td>57.504597</td>\n",
              "      <td>1618.090012</td>\n",
              "      <td>24.955931</td>\n",
              "      <td>18.551910</td>\n",
              "      <td>36.501454</td>\n",
              "      <td>1423.976520</td>\n",
              "    </tr>\n",
              "    <tr>\n",
              "      <th>min</th>\n",
              "      <td>1988.000000</td>\n",
              "      <td>0.000000</td>\n",
              "      <td>0.000000</td>\n",
              "      <td>0.000000</td>\n",
              "      <td>-173.000000</td>\n",
              "      <td>0.000000</td>\n",
              "      <td>0.000000</td>\n",
              "      <td>0.000000</td>\n",
              "      <td>0.000000</td>\n",
              "      <td>0.000000</td>\n",
              "    </tr>\n",
              "    <tr>\n",
              "      <th>25%</th>\n",
              "      <td>2788.000000</td>\n",
              "      <td>60.000000</td>\n",
              "      <td>8.000000</td>\n",
              "      <td>120.000000</td>\n",
              "      <td>8.000000</td>\n",
              "      <td>1123.000000</td>\n",
              "      <td>201.000000</td>\n",
              "      <td>215.000000</td>\n",
              "      <td>120.000000</td>\n",
              "      <td>1165.000000</td>\n",
              "    </tr>\n",
              "    <tr>\n",
              "      <th>50%</th>\n",
              "      <td>2933.000000</td>\n",
              "      <td>126.000000</td>\n",
              "      <td>13.000000</td>\n",
              "      <td>240.000000</td>\n",
              "      <td>30.000000</td>\n",
              "      <td>2016.000000</td>\n",
              "      <td>219.000000</td>\n",
              "      <td>227.000000</td>\n",
              "      <td>142.000000</td>\n",
              "      <td>1832.000000</td>\n",
              "    </tr>\n",
              "    <tr>\n",
              "      <th>75%</th>\n",
              "      <td>3041.000000</td>\n",
              "      <td>241.000000</td>\n",
              "      <td>18.000000</td>\n",
              "      <td>390.000000</td>\n",
              "      <td>67.000000</td>\n",
              "      <td>3386.000000</td>\n",
              "      <td>232.000000</td>\n",
              "      <td>239.000000</td>\n",
              "      <td>167.000000</td>\n",
              "      <td>2647.000000</td>\n",
              "    </tr>\n",
              "    <tr>\n",
              "      <th>max</th>\n",
              "      <td>3433.000000</td>\n",
              "      <td>360.000000</td>\n",
              "      <td>66.000000</td>\n",
              "      <td>1397.000000</td>\n",
              "      <td>601.000000</td>\n",
              "      <td>7117.000000</td>\n",
              "      <td>254.000000</td>\n",
              "      <td>254.000000</td>\n",
              "      <td>254.000000</td>\n",
              "      <td>7173.000000</td>\n",
              "    </tr>\n",
              "  </tbody>\n",
              "</table>\n",
              "</div>\n",
              "      <button class=\"colab-df-convert\" onclick=\"convertToInteractive('df-12a139c2-2f8e-47fd-8589-67aed264be24')\"\n",
              "              title=\"Convert this dataframe to an interactive table.\"\n",
              "              style=\"display:none;\">\n",
              "        \n",
              "  <svg xmlns=\"http://www.w3.org/2000/svg\" height=\"24px\"viewBox=\"0 0 24 24\"\n",
              "       width=\"24px\">\n",
              "    <path d=\"M0 0h24v24H0V0z\" fill=\"none\"/>\n",
              "    <path d=\"M18.56 5.44l.94 2.06.94-2.06 2.06-.94-2.06-.94-.94-2.06-.94 2.06-2.06.94zm-11 1L8.5 8.5l.94-2.06 2.06-.94-2.06-.94L8.5 2.5l-.94 2.06-2.06.94zm10 10l.94 2.06.94-2.06 2.06-.94-2.06-.94-.94-2.06-.94 2.06-2.06.94z\"/><path d=\"M17.41 7.96l-1.37-1.37c-.4-.4-.92-.59-1.43-.59-.52 0-1.04.2-1.43.59L10.3 9.45l-7.72 7.72c-.78.78-.78 2.05 0 2.83L4 21.41c.39.39.9.59 1.41.59.51 0 1.02-.2 1.41-.59l7.78-7.78 2.81-2.81c.8-.78.8-2.07 0-2.86zM5.41 20L4 18.59l7.72-7.72 1.47 1.35L5.41 20z\"/>\n",
              "  </svg>\n",
              "      </button>\n",
              "      \n",
              "  <style>\n",
              "    .colab-df-container {\n",
              "      display:flex;\n",
              "      flex-wrap:wrap;\n",
              "      gap: 12px;\n",
              "    }\n",
              "\n",
              "    .colab-df-convert {\n",
              "      background-color: #E8F0FE;\n",
              "      border: none;\n",
              "      border-radius: 50%;\n",
              "      cursor: pointer;\n",
              "      display: none;\n",
              "      fill: #1967D2;\n",
              "      height: 32px;\n",
              "      padding: 0 0 0 0;\n",
              "      width: 32px;\n",
              "    }\n",
              "\n",
              "    .colab-df-convert:hover {\n",
              "      background-color: #E2EBFA;\n",
              "      box-shadow: 0px 1px 2px rgba(60, 64, 67, 0.3), 0px 1px 3px 1px rgba(60, 64, 67, 0.15);\n",
              "      fill: #174EA6;\n",
              "    }\n",
              "\n",
              "    [theme=dark] .colab-df-convert {\n",
              "      background-color: #3B4455;\n",
              "      fill: #D2E3FC;\n",
              "    }\n",
              "\n",
              "    [theme=dark] .colab-df-convert:hover {\n",
              "      background-color: #434B5C;\n",
              "      box-shadow: 0px 1px 3px 1px rgba(0, 0, 0, 0.15);\n",
              "      filter: drop-shadow(0px 1px 2px rgba(0, 0, 0, 0.3));\n",
              "      fill: #FFFFFF;\n",
              "    }\n",
              "  </style>\n",
              "\n",
              "      <script>\n",
              "        const buttonEl =\n",
              "          document.querySelector('#df-12a139c2-2f8e-47fd-8589-67aed264be24 button.colab-df-convert');\n",
              "        buttonEl.style.display =\n",
              "          google.colab.kernel.accessAllowed ? 'block' : 'none';\n",
              "\n",
              "        async function convertToInteractive(key) {\n",
              "          const element = document.querySelector('#df-12a139c2-2f8e-47fd-8589-67aed264be24');\n",
              "          const dataTable =\n",
              "            await google.colab.kernel.invokeFunction('convertToInteractive',\n",
              "                                                     [key], {});\n",
              "          if (!dataTable) return;\n",
              "\n",
              "          const docLinkHtml = 'Like what you see? Visit the ' +\n",
              "            '<a target=\"_blank\" href=https://colab.research.google.com/notebooks/data_table.ipynb>data table notebook</a>'\n",
              "            + ' to learn more about interactive tables.';\n",
              "          element.innerHTML = '';\n",
              "          dataTable['output_type'] = 'display_data';\n",
              "          await google.colab.output.renderOutput(dataTable, element);\n",
              "          const docLink = document.createElement('div');\n",
              "          docLink.innerHTML = docLinkHtml;\n",
              "          element.appendChild(docLink);\n",
              "        }\n",
              "      </script>\n",
              "    </div>\n",
              "  </div>\n",
              "  "
            ]
          },
          "metadata": {},
          "execution_count": 19
        }
      ]
    },
    {
      "cell_type": "code",
      "source": [
        "# define % of anomalies\n",
        "anomalies_ratio = 0.009\n",
        "\n",
        "if_sk = IsolationForest(n_estimators = 100, \n",
        "                        max_samples = 256,\n",
        "                        contamination = anomalies_ratio, \n",
        "                        # behaviour= \" new\", \n",
        "                        random_state = np.random.RandomState(42))\n",
        "if_sk.fit(X)\n",
        "y_pred = if_sk.predict(X)\n",
        "y_pred = [1 if x == -1 else 0 for x in y_pred]"
      ],
      "metadata": {
        "id": "qT6pHn_r4soA"
      },
      "execution_count": 20,
      "outputs": []
    },
    {
      "cell_type": "code",
      "source": [
        "pretty_cm(y_pred, y, [0, 1])"
      ],
      "metadata": {
        "colab": {
          "base_uri": "https://localhost:8080/",
          "height": 416
        },
        "id": "4CZIYfHR4uvg",
        "outputId": "89a143d8-58d6-4835-de8a-d34c126ba724"
      },
      "execution_count": 21,
      "outputs": [
        {
          "output_type": "stream",
          "name": "stdout",
          "text": [
            "#######################\n",
            "Evaluation metrics ####\n",
            "#######################\n",
            "Accuracy: 0.9830\n",
            "Precision: 0.0882\n",
            "Recall: 0.0826\n",
            "F1: 0.0853\n"
          ]
        },
        {
          "output_type": "display_data",
          "data": {
            "text/plain": [
              "<Figure size 432x288 with 2 Axes>"
            ],
            "image/png": "[encoded data removed]"
          },
          "metadata": {
            "needs_background": "light"
          }
        }
      ]
    },
    {
      "cell_type": "code",
      "source": [
        "if_eif = iso.iForest(X.values.astype('double'), \n",
        "                     ntrees = 100, \n",
        "                     sample_size = 256, \n",
        "                     ExtensionLevel = 0)\n",
        "\n",
        "# calculate anomaly scores\n",
        "anomaly_scores = if_eif.compute_paths(X_in = X.values.astype('double'))\n",
        "# sort the scores\n",
        "anomaly_scores_sorted = np.argsort(anomaly_scores)\n",
        "# retrieve indices of anomalous observations\n",
        "indices_with_preds = anomaly_scores_sorted[-int(np.ceil(anomalies_ratio * X.shape[0])):]\n",
        "# create predictions \n",
        "y_pred = np.zeros_like(y)\n",
        "y_pred[indices_with_preds] = 1"
      ],
      "metadata": {
        "id": "GUSiC3gZ4u13"
      },
      "execution_count": 28,
      "outputs": []
    },
    {
      "cell_type": "code",
      "source": [
        "pretty_cm(y_pred, y, [0, 1])"
      ],
      "metadata": {
        "colab": {
          "base_uri": "https://localhost:8080/",
          "height": 416
        },
        "id": "vxuUg5nV5FFH",
        "outputId": "d04525c2-0f40-41ed-ea0b-5cfcd959d762"
      },
      "execution_count": 29,
      "outputs": [
        {
          "output_type": "stream",
          "name": "stdout",
          "text": [
            "#######################\n",
            "Evaluation metrics ####\n",
            "#######################\n",
            "Accuracy: 0.9831\n",
            "Precision: 0.0936\n",
            "Recall: 0.0877\n",
            "F1: 0.0906\n"
          ]
        },
        {
          "output_type": "display_data",
          "data": {
            "text/plain": [
              "<Figure size 432x288 with 2 Axes>"
            ],
            "image/png": "[encoded data removed]"
          },
          "metadata": {
            "needs_background": "light"
          }
        }
      ]
    },
    {
      "cell_type": "code",
      "source": [
        "eif = iso.iForest(X.values.astype('double'), \n",
        "                  ntrees = 100, \n",
        "                  sample_size = 256, \n",
        "                  ExtensionLevel = X.shape[1] - 1)\n",
        "\n",
        "anomaly_scores = eif.compute_paths(X_in = X.values.astype('double'))\n",
        "anomaly_scores_sorted = np.argsort(anomaly_scores)\n",
        "indices_with_preds = anomaly_scores_sorted[-int(np.ceil(anomalies_ratio * X.shape[0])):]\n",
        "y_pred = np.zeros_like(y)\n",
        "y_pred[indices_with_preds] = 1"
      ],
      "metadata": {
        "id": "qSoi4ofg5FQ6"
      },
      "execution_count": 26,
      "outputs": []
    },
    {
      "cell_type": "code",
      "source": [
        "pretty_cm(y_pred, y, [0, 1])"
      ],
      "metadata": {
        "colab": {
          "base_uri": "https://localhost:8080/",
          "height": 416
        },
        "id": "2hfzeyTf5T7n",
        "outputId": "de7301bf-1f46-44b2-93f7-78cc618efc4f"
      },
      "execution_count": 27,
      "outputs": [
        {
          "output_type": "stream",
          "name": "stdout",
          "text": [
            "#######################\n",
            "Evaluation metrics ####\n",
            "#######################\n",
            "Accuracy: 0.9814\n",
            "Precision: 0.0000\n",
            "Recall: 0.0000\n",
            "F1: 0.0000\n"
          ]
        },
        {
          "output_type": "display_data",
          "data": {
            "text/plain": [
              "<Figure size 432x288 with 2 Axes>"
            ],
            "image/png": "[encoded data removed]"
          },
          "metadata": {
            "needs_background": "light"
          }
        }
      ]
    }
  ]
}