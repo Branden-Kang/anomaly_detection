{
  "nbformat": 4,
  "nbformat_minor": 0,
  "metadata": {
    "colab": {
      "provenance": [],
      "authorship_tag": "ABX9TyN0XAjY+iVW2qAMqAv3nofx"
    },
    "kernelspec": {
      "name": "python3",
      "display_name": "Python 3"
    },
    "language_info": {
      "name": "python"
    }
  },
  "cells": [
    {
      "cell_type": "markdown",
      "source": [
        "[Reference](https://towardsdatascience.com/5-ways-to-detect-outliers-that-every-data-scientist-should-know-python-code-70a54335a623)"
      ],
      "metadata": {
        "id": "9HGvSM9MTNf4"
      }
    },
    {
      "cell_type": "markdown",
      "source": [
        "# Method 1 — Standard Deviation:"
      ],
      "metadata": {
        "id": "Yv9KMc2yTPoL"
      }
    },
    {
      "cell_type": "code",
      "execution_count": 4,
      "metadata": {
        "id": "2nN7UPvQTL5l"
      },
      "outputs": [],
      "source": [
        "# import numpy as np\n",
        "# import matplotlib.pyplot as plt\n",
        "# seed(1)\n",
        "\n",
        "\n",
        "# # multiply and add by random numbers to get some real values\n",
        "# data = np.random.randn(50000)  * 20 + 20\n",
        "\n",
        "# # Function to Detection Outlier on one-dimentional datasets.\n",
        "# def find_anomalies(data):\n",
        "#     #define a list to accumlate anomalies\n",
        "#     anomalies = []\n",
        "    \n",
        "#     # Set upper and lower limit to 3 standard deviation\n",
        "#     random_data_std = std(random_data)\n",
        "#     random_data_mean = mean(random_data)\n",
        "#     anomaly_cut_off = random_data_std * 3\n",
        "    \n",
        "#     lower_limit  = random_data_mean - anomaly_cut_off \n",
        "#     upper_limit = random_data_mean + anomaly_cut_off\n",
        "#     print(lower_limit)\n",
        "#     # Generate outliers\n",
        "#     for outlier in random_data:\n",
        "#         if outlier > upper_limit or outlier < lower_limit:\n",
        "#             anomalies.append(outlier)\n",
        "#     return anomalies\n",
        "\n",
        "# find_anomalies(data)"
      ]
    },
    {
      "cell_type": "markdown",
      "source": [
        "# Method 2 — Boxplots"
      ],
      "metadata": {
        "id": "cDrizkrHTR1v"
      }
    },
    {
      "cell_type": "code",
      "source": [
        "# import seaborn as sns\n",
        "# import matplotlib.pyplot as plt\n",
        "\n",
        "# sns.boxplot(data=random_data)"
      ],
      "metadata": {
        "id": "dkdhq6ghTRJh"
      },
      "execution_count": 5,
      "outputs": []
    },
    {
      "cell_type": "markdown",
      "source": [
        "# Method 3— DBScan Clustering:"
      ],
      "metadata": {
        "id": "rd-jp-DHTUmU"
      }
    },
    {
      "cell_type": "code",
      "source": [
        "from sklearn.cluster import DBSCAN\n",
        "import numpy as np\n",
        "# seed(1)\n",
        "random_data = np.random.randn(50000,2)  * 20 + 20\n",
        "\n",
        "outlier_detection = DBSCAN(min_samples = 2, eps = 3)\n",
        "clusters = outlier_detection.fit_predict(random_data)\n",
        "list(clusters).count(-1)"
      ],
      "metadata": {
        "colab": {
          "base_uri": "https://localhost:8080/"
        },
        "id": "jAvYKhp2TTJY",
        "outputId": "c3516329-4193-4f12-a85b-10931f65dac1"
      },
      "execution_count": 6,
      "outputs": [
        {
          "output_type": "execute_result",
          "data": {
            "text/plain": [
              "87"
            ]
          },
          "metadata": {},
          "execution_count": 6
        }
      ]
    },
    {
      "cell_type": "markdown",
      "source": [
        "# Method 4— Isolation Forest:"
      ],
      "metadata": {
        "id": "Kg0rrsYoTjLQ"
      }
    },
    {
      "cell_type": "code",
      "source": [
        "from sklearn.ensemble import IsolationForest\n",
        "import numpy as np\n",
        "np.random.seed(1)\n",
        "random_data = np.random.randn(50000,2)  * 20 + 20\n",
        "\n",
        "clf = IsolationForest( max_samples=100, random_state = 1, contamination= 'auto')\n",
        "preds = clf.fit_predict(random_data)\n",
        "preds"
      ],
      "metadata": {
        "colab": {
          "base_uri": "https://localhost:8080/"
        },
        "id": "P64sCzm5Th8I",
        "outputId": "ca0421b7-acf9-4a55-df73-80428387c111"
      },
      "execution_count": 8,
      "outputs": [
        {
          "output_type": "execute_result",
          "data": {
            "text/plain": [
              "array([-1,  1, -1, ...,  1,  1,  1])"
            ]
          },
          "metadata": {},
          "execution_count": 8
        }
      ]
    },
    {
      "cell_type": "markdown",
      "source": [
        "# Method 5— Robust Random Cut Forest:\n",
        "Random Cut Forest (RCF) algorithm is Amazon’s unsupervised algorithm for detecting anomalies. It works by associating an anomaly score as well. Low score values indicate that the data point is considered “normal.” High values indicate the presence of an anomaly in the data. The definitions of “low” and “high” depend on the application but common practice suggests that scores beyond three standard deviations from the mean score are considered anomalous. The details of the algorithm can be found in this paper."
      ],
      "metadata": {
        "id": "8Lbr0vBMTpsE"
      }
    }
  ]
}