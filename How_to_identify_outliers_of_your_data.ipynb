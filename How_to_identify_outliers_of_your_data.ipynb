{
  "nbformat": 4,
  "nbformat_minor": 0,
  "metadata": {
    "colab": {
      "provenance": [],
      "authorship_tag": "ABX9TyNmH8T2vBsvHY4fGyglixE+"
    },
    "kernelspec": {
      "name": "python3",
      "display_name": "Python 3"
    },
    "language_info": {
      "name": "python"
    }
  },
  "cells": [
    {
      "cell_type": "markdown",
      "source": [
        "[Reference](https://medium.com/top-python-libraries/how-to-identify-outliers-of-your-data-with-python-codes-e9e53e912f8c)"
      ],
      "metadata": {
        "id": "gfLMwiQVhFD7"
      }
    },
    {
      "cell_type": "markdown",
      "source": [
        "# 3sigma"
      ],
      "metadata": {
        "id": "uHEq2kTZhJGU"
      }
    },
    {
      "cell_type": "code",
      "execution_count": 1,
      "metadata": {
        "id": "1KcfYO44hBUb"
      },
      "outputs": [],
      "source": [
        "import numpy as np\n",
        "\n",
        "def three_sigma(s):\n",
        "    mu, std = np.mean(s), np.std(s)\n",
        "    lower, upper = mu-3*std, mu+3*std\n",
        "    return lower, upper"
      ]
    },
    {
      "cell_type": "markdown",
      "source": [
        "# Z-score"
      ],
      "metadata": {
        "id": "qsM64yLkhLSq"
      }
    },
    {
      "cell_type": "code",
      "source": [
        "def z_score(s):\n",
        "  z_score = (s - np.mean(s)) / np.std(s)\n",
        "  return z_score"
      ],
      "metadata": {
        "id": "P44AVRaihJqa"
      },
      "execution_count": 2,
      "outputs": []
    },
    {
      "cell_type": "markdown",
      "source": [
        "# boxplot"
      ],
      "metadata": {
        "id": "SWooW-1ShOKM"
      }
    },
    {
      "cell_type": "code",
      "source": [
        "def boxplot(s):\n",
        "    q1, q3 = np.percentile(s, [25, 75])\n",
        "    iqr = q3 - q1\n",
        "    lower_bound = q1 - (1.5 * iqr)\n",
        "    upper_bound = q3 + (1.5 * iqr)\n",
        "    return lower_bound, upper_bound"
      ],
      "metadata": {
        "id": "N_XZi2MFhNNr"
      },
      "execution_count": 3,
      "outputs": []
    }
  ]
}