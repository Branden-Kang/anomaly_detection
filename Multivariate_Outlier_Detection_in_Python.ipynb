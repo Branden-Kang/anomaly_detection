{
  "nbformat": 4,
  "nbformat_minor": 0,
  "metadata": {
    "colab": {
      "provenance": [],
      "authorship_tag": "ABX9TyMjpGAqlyL5ZQ4cNVsuVqWj"
    },
    "kernelspec": {
      "name": "python3",
      "display_name": "Python 3"
    },
    "language_info": {
      "name": "python"
    }
  },
  "cells": [
    {
      "cell_type": "markdown",
      "source": [
        "[Reference](https://towardsdatascience.com/multivariate-outlier-detection-in-python-e946cfc843b3)"
      ],
      "metadata": {
        "id": "OnKgRg58RN5m"
      }
    },
    {
      "cell_type": "code",
      "execution_count": 1,
      "metadata": {
        "colab": {
          "base_uri": "https://localhost:8080/",
          "height": 384
        },
        "id": "EV_gvRdQRLvJ",
        "outputId": "71d64eb5-12f2-41b8-e8fb-88150476d502"
      },
      "outputs": [
        {
          "output_type": "stream",
          "name": "stdout",
          "text": [
            "--- Index of Outliers ----\n",
            "(array([24, 35, 67, 81]),)\n",
            "--- Observations found as outlier -----\n",
            "[[115.  79.]\n",
            " [135.  84.]\n",
            " [122.  89.]\n",
            " [168.  81.]]\n"
          ]
        },
        {
          "output_type": "display_data",
          "data": {
            "text/plain": [
              "<Figure size 432x288 with 1 Axes>"
            ],
            "image/png": "[encoded data removed]"
          },
          "metadata": {
            "needs_background": "light"
          }
        }
      ],
      "source": [
        "import pandas as pd\n",
        "import numpy as np\n",
        "from scipy.stats import chi2\n",
        "from matplotlib import patches\n",
        "import matplotlib.pyplot as plt\n",
        "\n",
        "# Import dataset and clean it\n",
        "df= pd.read_csv('https://raw.githubusercontent.com/vincentarelbundock/Rdatasets/master/csv/datasets/airquality.csv', sep=\",\", decimal='.' )\n",
        "df.head()\n",
        "\n",
        "df = df[['Ozone', 'Temp']]\n",
        "df = df.dropna()\n",
        "df = df.to_numpy()\n",
        "\n",
        "# Covariance matrix\n",
        "covariance  = np.cov(df , rowvar=False)\n",
        "\n",
        "# Covariance matrix power of -1\n",
        "covariance_pm1 = np.linalg.matrix_power(covariance, -1)\n",
        "\n",
        "# Center point\n",
        "centerpoint = np.mean(df , axis=0)\n",
        "\n",
        "# Distances between center point and \n",
        "distances = []\n",
        "for i, val in enumerate(df):\n",
        "      p1 = val\n",
        "      p2 = centerpoint\n",
        "      distance = (p1-p2).T.dot(covariance_pm1).dot(p1-p2)\n",
        "      distances.append(distance)\n",
        "distances = np.array(distances)\n",
        "\n",
        "# Cutoff (threshold) value from Chi-Sqaure Distribution for detecting outliers \n",
        "cutoff = chi2.ppf(0.95, df.shape[1])\n",
        "\n",
        "# Index of outliers\n",
        "outlierIndexes = np.where(distances > cutoff )\n",
        "\n",
        "print('--- Index of Outliers ----')\n",
        "print(outlierIndexes)\n",
        "# array([24, 35, 67, 81])\n",
        "\n",
        "print('--- Observations found as outlier -----')\n",
        "print(df[ distances > cutoff , :])\n",
        "\n",
        "## Finding ellipse dimensions \n",
        "pearson = covariance[0, 1]/np.sqrt(covariance[0, 0] * covariance[1, 1])\n",
        "ell_radius_x = np.sqrt(1 + pearson)\n",
        "ell_radius_y = np.sqrt(1 - pearson)\n",
        "lambda_, v = np.linalg.eig(covariance)\n",
        "lambda_ = np.sqrt(lambda_)\n",
        "\n",
        "# Ellipse patch\n",
        "ellipse = patches.Ellipse(xy=(centerpoint[0], centerpoint[1]),\n",
        "                  width=lambda_[0]*np.sqrt(cutoff)*2, height=lambda_[1]*np.sqrt(cutoff)*2,\n",
        "                  angle=np.rad2deg(np.arccos(v[0, 0])), edgecolor='#fab1a0')\n",
        "ellipse.set_facecolor('#0984e3')\n",
        "ellipse.set_alpha(0.5)\n",
        "fig = plt.figure()\n",
        "ax = plt.subplot()\n",
        "ax.add_artist(ellipse)\n",
        "plt.scatter(df[: , 0], df[ : , 1])\n",
        "plt.show()"
      ]
    }
  ]
}