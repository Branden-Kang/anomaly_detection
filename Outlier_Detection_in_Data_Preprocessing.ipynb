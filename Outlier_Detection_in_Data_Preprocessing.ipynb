{
  "nbformat": 4,
  "nbformat_minor": 0,
  "metadata": {
    "colab": {
      "provenance": [],
      "authorship_tag": "ABX9TyPzh5TPxWw/bMOSAM0VSWVj"
    },
    "kernelspec": {
      "name": "python3",
      "display_name": "Python 3"
    },
    "language_info": {
      "name": "python"
    }
  },
  "cells": [
    {
      "cell_type": "markdown",
      "source": [
        "[Reference](https://medium.com/@WojtekFulmyk/outlier-detection-in-data-preprocessing-4fde42c8a19b)"
      ],
      "metadata": {
        "id": "8ETpVj1hRcsF"
      }
    },
    {
      "cell_type": "code",
      "execution_count": 2,
      "metadata": {
        "colab": {
          "base_uri": "https://localhost:8080/"
        },
        "id": "m88dEBd3Q9Ee",
        "outputId": "22140264-7a10-4161-8123-1228914eba6c"
      },
      "outputs": [
        {
          "output_type": "stream",
          "name": "stdout",
          "text": [
            "  column     value\n",
            "0      0  2.631254\n",
            "0      1  1.687874\n",
            "0      2 -1.857872\n",
            "          0         1         2\n",
            "0       NaN       NaN -1.857872\n",
            "1  2.631254  1.687874       NaN\n",
            "2       NaN       NaN       NaN\n",
            "3       NaN       NaN       NaN\n",
            "4       NaN       NaN       NaN\n",
            "5       NaN       NaN       NaN\n"
          ]
        }
      ],
      "source": [
        "import pandas as pd\n",
        "import numpy as np\n",
        "from sklearn.covariance import EllipticEnvelope\n",
        "\n",
        "# define model\n",
        "outlier_detector = EllipticEnvelope(contamination=0.01)\n",
        "\n",
        "# sample dataframe. Some values will naturally become outliers\n",
        "df = pd.DataFrame(np.random.randn(6, 3))\n",
        "\n",
        "# identify outliers\n",
        "outlier_values = pd.DataFrame(columns=['column', 'value'])\n",
        "for col in df.columns:\n",
        "  # fit on column directly\n",
        "  outlier_detector.fit(df[col].values.reshape(-1, 1))\n",
        "  # predict the outliers\n",
        "  y_pred = outlier_detector.predict(df[col].values.reshape(-1, 1))\n",
        "  # store outlier rows and values\n",
        "  if -1 in y_pred:\n",
        "    outlier_row = df[y_pred==-1].index[0]\n",
        "    outlier_values = pd.concat([outlier_values,\n",
        "                           pd.DataFrame({'column': col, 'value': df.loc[outlier_row, col]}, index=[0])])\n",
        "\n",
        "# create empty mask\n",
        "mask = pd.DataFrame(False, index=df.index, columns=df.columns)\n",
        "\n",
        "# set mask to True where values match outliers\n",
        "for row in outlier_values.itertuples():\n",
        "    mask.loc[df[row.column] == row.value, row.column] = True\n",
        "\n",
        "# mask all values except outliers\n",
        "df_outliers = df.mask(~mask)\n",
        "\n",
        "# show results\n",
        "print(outlier_values)\n",
        "print(df_outliers)"
      ]
    }
  ]
}